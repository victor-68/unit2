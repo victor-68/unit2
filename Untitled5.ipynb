{
  "nbformat": 4,
  "nbformat_minor": 0,
  "metadata": {
    "colab": {
      "provenance": [],
      "authorship_tag": "ABX9TyPslkoQToB9qIK8+JDg6knj",
      "include_colab_link": true
    },
    "kernelspec": {
      "name": "python3",
      "display_name": "Python 3"
    },
    "language_info": {
      "name": "python"
    }
  },
  "cells": [
    {
      "cell_type": "markdown",
      "metadata": {
        "id": "view-in-github",
        "colab_type": "text"
      },
      "source": [
        "<a href=\"https://colab.research.google.com/github/victor-68/unit2/blob/main/Untitled5.ipynb\" target=\"_parent\"><img src=\"https://colab.research.google.com/assets/colab-badge.svg\" alt=\"Open In Colab\"/></a>"
      ]
    },
    {
      "cell_type": "markdown",
      "source": [
        "¿que es pandas en python? panda es una libreria o\n",
        "biblioteca de python que se utuliza para trabjar en\n",
        "conjunto de datos tiene funciones para analizar limpiar\n",
        "explorar y manipular datos. el nombre pandas hace referencia\n",
        "a panel de datos y python datos fue creado en 2008\n",
        "-------------------\n",
        "¿que podemos hacer con pandas?\n",
        "pandas nos permite analizar bigdata y sacar\n",
        "concluciones basadas en teorias estadisticas.\n",
        "las pandas pueden limpia conjunto de datos y hacerlo\n",
        "legibles y relevantes los datos relevantes son muy importantes\n",
        "en la ciencia de datos\n",
        "--------------\n",
        "¿que podemos hacer con pandas?\n",
        "---\n",
        "1.saber si existe correlaciones entre 2 o mas columnas\n",
        "------\n",
        "2.¿cual es el valor promedio?\n",
        "------\n",
        "3.valor maximo\n",
        "-------\n",
        "4.volor minimo\n",
        "--------\n",
        "panda tambien puede eliminar que no son relevantes o que\n",
        "continuen errores como valores vacios. esto  se llaman limpieza\n",
        "de datos.\n",
        "---------\n",
        "** instalacion de pandas**\n",
        "---\n",
        "si tienes python pip instalada usando\n",
        "el siguiente comando\n",
        "-----------\n",
        "**pip install pandas**\n",
        "---\n",
        "si este comando falla utilizando una distrubucion\n",
        "de python que ya tenga pandas instalando\n",
        "--------\n",
        "importar pandas una vez instala pandas importante\n",
        "a tus aplicaciones agregando la palabra clave\n",
        "\"import pandas\"\n",
        "-------\n",
        "ahora pandas este import y listas para usar crea\n",
        "una aliascon la palabra as al import pandas\n",
        "-------\n",
        "la cadena de la version se se almacenara\n",
        "en el atributo_ _version_ _.\n",
        "------\n",
        "ejemplo:\n",
        "----\n",
        "\n"
      ],
      "metadata": {
        "id": "M9PoF28bSsyG"
      }
    },
    {
      "cell_type": "code",
      "source": [
        "import pandas as pd\n",
        "print(pd.__version__)"
      ],
      "metadata": {
        "colab": {
          "base_uri": "https://localhost:8080/"
        },
        "id": "HoKfC5cgV7re",
        "outputId": "056b6e56-5b06-4e6f-baeb-635e8662b7b5"
      },
      "execution_count": 1,
      "outputs": [
        {
          "output_type": "stream",
          "name": "stdout",
          "text": [
            "2.2.2\n"
          ]
        }
      ]
    },
    {
      "cell_type": "markdown",
      "source": [
        "ejercicio:\n",
        "-----\n",
        "¿cual de las siguentes 3 opciones\n",
        "es la biblioteca oficial de panda?\n",
        "-------\n",
        "1)import p    2)import pandas   3)import pan\n",
        "----\n",
        "**pandas Serie**\n",
        "¿que es una Serie?\n",
        "una serie en pandas es una columna en una\n",
        "tabla es una matriz unidemencional que contiene\n",
        "datos de culaquier tipo\n",
        "-------\n",
        "**Ejemplo**\n",
        "-----"
      ],
      "metadata": {
        "id": "AJUwdkKTbyiF"
      }
    },
    {
      "cell_type": "code",
      "execution_count": 2,
      "metadata": {
        "colab": {
          "base_uri": "https://localhost:8080/"
        },
        "id": "cWbGjRBVScnH",
        "outputId": "4de5c670-cbff-4016-aa9e-5c5c6b24be37"
      },
      "outputs": [
        {
          "output_type": "stream",
          "name": "stdout",
          "text": [
            "0    1\n",
            "1    7\n",
            "2    2\n",
            "dtype: int64\n"
          ]
        }
      ],
      "source": [
        "import pandas as pd\n",
        "a=[1,7,2]\n",
        "myvar=pd.Series(a)\n",
        "print(myvar)"
      ]
    },
    {
      "cell_type": "markdown",
      "source": [
        "si no se especifica nada mas los valores se\n",
        "etiquetan con su numero de indice si el primer valor\n",
        "tiene indice o , en segundo valor tiene el indice 1,\n",
        "etc esta etiqueta se puede utilizar para accder a un\n",
        "valor especifico.\n",
        "----------\n",
        "**ejemplo:**\n",
        "devuelve el primer valor de la serie\n",
        "-----\n"
      ],
      "metadata": {
        "id": "PVVMHbkEeXZF"
      }
    },
    {
      "cell_type": "code",
      "source": [
        "print(myvar[0])"
      ],
      "metadata": {
        "colab": {
          "base_uri": "https://localhost:8080/"
        },
        "id": "TQXhLxC4fre9",
        "outputId": "8b2ba044-6ba3-4e34-82c5-3de474ff0b56"
      },
      "execution_count": 3,
      "outputs": [
        {
          "output_type": "stream",
          "name": "stdout",
          "text": [
            "1\n"
          ]
        }
      ]
    },
    {
      "cell_type": "markdown",
      "source": [
        "**crear etiquetas**\n",
        "donde el argumento index,podemos nombrar nuestros\n",
        "propias etiquetas creas tus propias etiquetas\n",
        "-------"
      ],
      "metadata": {
        "id": "RR2DceumfyBV"
      }
    },
    {
      "cell_type": "code",
      "source": [
        "mayvar=pd.Series(a,index=[\"x\",\"y\",\"z\"])\n",
        "print(mayvar)"
      ],
      "metadata": {
        "colab": {
          "base_uri": "https://localhost:8080/"
        },
        "id": "qwWHY5uSgWiu",
        "outputId": "d580dc41-7e47-484c-8d63-9c150a8cab11"
      },
      "execution_count": 4,
      "outputs": [
        {
          "output_type": "stream",
          "name": "stdout",
          "text": [
            "x    1\n",
            "y    7\n",
            "z    2\n",
            "dtype: int64\n"
          ]
        }
      ]
    },
    {
      "cell_type": "markdown",
      "source": [
        "cuando hayamos creado etiquetas acceder a un elemento\n",
        "haciendo referencia a su etiqueta de vuelve el valor y\n",
        "----"
      ],
      "metadata": {
        "id": "9VJEhvB-g4Bu"
      }
    },
    {
      "cell_type": "code",
      "source": [],
      "metadata": {
        "colab": {
          "base_uri": "https://localhost:8080/"
        },
        "id": "emLw-0NZhv5t",
        "outputId": "a07b8971-95f1-49fc-b007-b22b9060723c"
      },
      "execution_count": 8,
      "outputs": [
        {
          "output_type": "stream",
          "name": "stdout",
          "text": [
            "7\n"
          ]
        }
      ]
    },
    {
      "cell_type": "markdown",
      "source": [
        "objetos clave valor Clave/volor\n",
        "como serie tambien podemos utilizar un objeto\n",
        "clave/valor como un diccionario una serie pandas\n",
        "a partir de un diccionario.\n",
        "---------\n"
      ],
      "metadata": {
        "id": "Sq9lq7LQh-09"
      }
    },
    {
      "cell_type": "code",
      "source": [
        "import pandas as pd\n",
        "calorias={\"dia1\":420,\"dia2\":380,\"dia3\":390}\n",
        "myvar=.pdSeries(calorias)\n",
        "print(mayvar)"
      ],
      "metadata": {
        "colab": {
          "base_uri": "https://localhost:8080/"
        },
        "id": "tfHD3bh4irjF",
        "outputId": "23899f3c-617a-47bc-a06e-66aa043cba20"
      },
      "execution_count": 13,
      "outputs": [
        {
          "output_type": "stream",
          "name": "stdout",
          "text": [
            "dia1    420\n",
            "dia2    380\n",
            "dia3    390\n",
            "dtype: int64\n"
          ]
        }
      ]
    },
    {
      "cell_type": "markdown",
      "source": [
        "las claves del diccionario se convierten en las etiquetas\n",
        ",para seleccionar elementos del diccionario utilizen\n",
        "el argumento crea una serie utilizando unicamente datos del\n",
        "dia 1 y del dia 2\n",
        "--------\n",
        "**data frames**\n",
        "marcas de datos los cojuntos de datos de pandas suelen ser\n",
        "multididimencionales llamas data frames la serie es una\n",
        "columna un data frame es toda la tabla\n",
        "--------\n",
        "**ejemplo**\n",
        "crea undata frame apartir de Series\n",
        "-----"
      ],
      "metadata": {
        "id": "F-v4DzwFj__d"
      }
    },
    {
      "cell_type": "code",
      "source": [
        "import pandas as pd\n",
        "data={\"calorias\":[420,380,390],\"duracion\":[50,40,45]}\n",
        "myvar=pd.DataFrame(data)\n",
        "print(myvar)"
      ],
      "metadata": {
        "colab": {
          "base_uri": "https://localhost:8080/"
        },
        "id": "oEKFYDoCmWWV",
        "outputId": "7cee570e-892b-4932-f314-ddf20cd28262"
      },
      "execution_count": 16,
      "outputs": [
        {
          "output_type": "stream",
          "name": "stdout",
          "text": [
            "   calorias  duracion\n",
            "0       420        50\n",
            "1       380        40\n",
            "2       390        45\n"
          ]
        }
      ]
    },
    {
      "cell_type": "markdown",
      "source": [
        "¿una serie es como un renglon en una tabla?\n",
        "falso es como una columna\n",
        "----"
      ],
      "metadata": {
        "id": "583kxCWnnaiN"
      }
    }
  ]
}