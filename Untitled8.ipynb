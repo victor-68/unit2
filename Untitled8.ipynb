{
  "nbformat": 4,
  "nbformat_minor": 0,
  "metadata": {
    "colab": {
      "provenance": [],
      "authorship_tag": "ABX9TyPpKlOvcMDljzvDdLw0WYFB",
      "include_colab_link": true
    },
    "kernelspec": {
      "name": "python3",
      "display_name": "Python 3"
    },
    "language_info": {
      "name": "python"
    }
  },
  "cells": [
    {
      "cell_type": "markdown",
      "metadata": {
        "id": "view-in-github",
        "colab_type": "text"
      },
      "source": [
        "<a href=\"https://colab.research.google.com/github/victor-68/unit2/blob/main/Untitled8.ipynb\" target=\"_parent\"><img src=\"https://colab.research.google.com/assets/colab-badge.svg\" alt=\"Open In Colab\"/></a>"
      ]
    },
    {
      "cell_type": "markdown",
      "source": [
        "victor martinez alvarez -practicas 2 de pandas 7 de octubre 2025\n",
        "---------------\n",
        "dataframe de pandas\n",
        "-----------\n",
        "un dataframe es una estructura de datos bidimencionales como una matriz\n",
        "o tabla con filas y columnas\n",
        "------\n",
        "ejemplo:crea una dataframe basico:\n",
        "--------\n"
      ],
      "metadata": {
        "id": "1tdSjBht80Dh"
      }
    },
    {
      "cell_type": "code",
      "execution_count": 8,
      "metadata": {
        "colab": {
          "base_uri": "https://localhost:8080/"
        },
        "id": "CeTUaZzq8xRb",
        "outputId": "42524725-a7c6-487c-94e3-db513c37dd34"
      },
      "outputs": [
        {
          "output_type": "stream",
          "name": "stdout",
          "text": [
            "   calorias  duarcion\n",
            "0       420        50\n",
            "1       380        40\n",
            "2       390        45\n"
          ]
        }
      ],
      "source": [
        "import pandas as pd\n",
        "datos ={\n",
        "    \"calorias\":[420,380,390],\n",
        "    \"duarcion\":[50,40,45]\n",
        "}\n",
        "#cargar datos dentro del DATAFRAME\n",
        "dataframe=pd.DATAFRAME(datos)\n",
        "print(dataframe)"
      ]
    },
    {
      "cell_type": "markdown",
      "source": [
        "localizar filas\n",
        "-------\n",
        "como puedes ver el dataframe es como una tabla con filas y columnas.\n",
        "pandas uas el atributo \"loc\" para devulver 1 o mas filas en aspesifico\n"
      ],
      "metadata": {
        "id": "xeOkThb987v4"
      }
    },
    {
      "cell_type": "code",
      "source": [
        "import pandas as pd\n",
        "\n",
        "datos = {\n",
        "    \"calorias\":[420,380,390],\n",
        "    \"duracion\":[50,40,45]\n",
        "}\n",
        "#cargar datos dentro del DATAFRAME\n",
        "dataframe=pd.DataFrame(datos)\n",
        "print(dataframe.loc[0])"
      ],
      "metadata": {
        "colab": {
          "base_uri": "https://localhost:8080/"
        },
        "id": "CaIzmuiv9sHR",
        "outputId": "1ad14f71-23d9-441f-eba7-3810cec82e59"
      },
      "execution_count": 11,
      "outputs": [
        {
          "output_type": "stream",
          "name": "stdout",
          "text": [
            "calorias    420\n",
            "duracion     50\n",
            "Name: 0, dtype: int64\n"
          ]
        }
      ]
    },
    {
      "cell_type": "markdown",
      "source": [
        "ejemplo:devuelve las filas 0 y 1"
      ],
      "metadata": {
        "id": "hragnkX69saQ"
      }
    },
    {
      "cell_type": "code",
      "source": [
        "import pandas as pd\n",
        "\n",
        "datos = {\n",
        "    \"calorias\":[420,380,390],\n",
        "    \"duracion\":[50,40,45]\n",
        "}\n",
        "#cargar datos dentro del DATAFRAME\n",
        "dataframe=pd.DATAFRAME(datos)\n",
        "print(dataframe.loc[0:1])"
      ],
      "metadata": {
        "colab": {
          "base_uri": "https://localhost:8080/"
        },
        "id": "boRnt3Mw91XI",
        "outputId": "a747bfcc-8352-40f6-eb1a-d508fd18a49b"
      },
      "execution_count": 4,
      "outputs": [
        {
          "output_type": "stream",
          "name": "stdout",
          "text": [
            "   calorias  duracion\n",
            "0       420        50\n",
            "1       380        40\n"
          ]
        }
      ]
    },
    {
      "cell_type": "markdown",
      "source": [
        "indices nombrados\n",
        "---------\n",
        "con el argumento \"index\",puedes nombrar tus propios indices\n",
        "o etiquetas . ejemplo agrega una lista de nombres para darle una\n",
        "etiqueta a cada fila"
      ],
      "metadata": {
        "id": "c8vtwdV7-qW6"
      }
    },
    {
      "cell_type": "code",
      "source": [
        "import pandas as pd\n",
        "\n",
        "datos = {\n",
        "    \"calorias\":[420,380,390],\n",
        "    \"duracion\":[50,40,45]\n",
        "}\n",
        "#cargar datos dentro del DATAFRAME\n",
        "dataframe=pd.DataFrame(datos,index=[\"dia-1\",\"dia-2\",\"dia-3\"])\n",
        "print(dataframe)"
      ],
      "metadata": {
        "colab": {
          "base_uri": "https://localhost:8080/"
        },
        "id": "Qd4cX_lP_RuZ",
        "outputId": "51448bcf-b965-40ec-f472-620700da56f1"
      },
      "execution_count": 5,
      "outputs": [
        {
          "output_type": "stream",
          "name": "stdout",
          "text": [
            "       calorias  duracion\n",
            "dia-1       420        50\n",
            "dia-2       380        40\n",
            "dia-3       390        45\n"
          ]
        }
      ]
    },
    {
      "cell_type": "markdown",
      "source": [
        "localizar indice por el nombre o etiqueta\n",
        "utiliza el atributo \"loc\" para devolver la(s) fila(s)\n",
        "especificas\n",
        "---------\n",
        "ejemplo:devuelve la fila dia-2"
      ],
      "metadata": {
        "id": "2PpMUyAb_s8p"
      }
    },
    {
      "cell_type": "code",
      "source": [
        "import pandas as pd\n",
        "\n",
        "datos = {\n",
        "    \"calorias\":[420,380,390],\n",
        "    \"duracion\":[50,40,45]\n",
        "}\n",
        "#cargar datos dentro del DATAFRAME\n",
        "dataframe=pd.DataFrame(datos,index=[\"dia-1\",\"dia-2\",\"dia-3\"])\n",
        "print(dataframe.loc[\"dia-2\"])"
      ],
      "metadata": {
        "colab": {
          "base_uri": "https://localhost:8080/"
        },
        "id": "-0rAJjwrAHUh",
        "outputId": "649208ab-f9c3-43ad-ab07-8b57cc34f629"
      },
      "execution_count": 6,
      "outputs": [
        {
          "output_type": "stream",
          "name": "stdout",
          "text": [
            "calorias    380\n",
            "duracion     40\n",
            "Name: dia-2, dtype: int64\n"
          ]
        }
      ]
    }
  ]
}